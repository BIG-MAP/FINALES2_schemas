{
 "cells": [
  {
   "cell_type": "code",
   "execution_count": 1,
   "metadata": {},
   "outputs": [],
   "source": [
    "import json\n",
    "from pyld import jsonld\n",
    "import utils"
   ]
  },
  {
   "cell_type": "code",
   "execution_count": 114,
   "metadata": {},
   "outputs": [],
   "source": [
    "with open('../examples_conductivity/single_result.json') as f:\n",
    "    data = json.load(f)\n",
    "\n",
    "\n",
    "with open(\"./mapping.json\") as f:\n",
    "    mapping = json.load(f)"
   ]
  },
  {
   "cell_type": "code",
   "execution_count": 101,
   "metadata": {},
   "outputs": [],
   "source": [
    "context = {\n",
    "  \"@context\": {\n",
    "    \"ctime\": \"http://example.com/vocab/ctime\",\n",
    "    \"formulation\": \"http://example.com/vocab/formulation\",\n",
    "    \"chemical\": \"http://example.com/vocab/chemical\",\n",
    "    \"SMILES\": \"http://example.com/vocab/SMILES\",\n",
    "    \"InChIKey\": \"http://example.com/vocab/InChIKey\",\n",
    "    \"fraction\": \"http://example.com/vocab/fraction\",\n",
    "    \"fraction_type\": \"http://example.com/vocab/fraction_type\",\n",
    "    \"internal_reference\": \"http://example.com/vocab/internal_reference\",\n",
    "    \"conductivity\": \"http://example.com/vocab/conductivity\",\n",
    "    \"values\": \"http://example.com/vocab/values\",\n",
    "    \"temperature\": \"http://example.com/vocab/temperature\",\n",
    "    \"quantity\": \"http://example.com/vocab/quantity\",\n",
    "    \"method\": \"http://example.com/vocab/method\",\n",
    "    \"parameters\": \"http://example.com/vocab/parameters\",\n",
    "    \"molecular_dynamics\": \"http://example.com/vocab/molecular_dynamics\",\n",
    "  }\n",
    "}\n",
    "\n",
    "jsonld_frame = {\n",
    "  \"@context\": {\n",
    "    \"ctime\": \"http://example.com/vocab/ctime\",\n",
    "    \"conductivity\": \"http://example.com/vocab/conductivity\",\n",
    "    \"values\": \"http://example.com/vocab/values\",\n",
    "    \"temperature\": \"http://example.com/vocab/temperature\",\n",
    "    \"formulation\": \"http://example.com/vocab/formulation\",\n",
    "    \"chemical\": \"http://example.com/vocab/chemical\",\n",
    "    \"SMILES\": \"http://example.com/vocab/SMILES\",\n",
    "    \"InChIKey\": \"http://example.com/vocab/InChIKey\"\n",
    "  },\n",
    "  \"@explicit\": True,\n",
    "  \"@requireAll\": True,\n",
    "  \"ctime\": {},\n",
    "  \"result\":{\n",
    "      \"@explicit\": True,\n",
    "      \"formulation\":{\n",
    "          \"chemical\": {\n",
    "            \"SMILES\": {},\n",
    "            \"InChIKey\": {}\n",
    "          }\n",
    "      }\n",
    "  }\n",
    "  }\n"
   ]
  },
  {
   "cell_type": "code",
   "execution_count": null,
   "metadata": {},
   "outputs": [],
   "source": [
    "mapping={\n",
    "    \"ctime\": \"http://example.com/vocab/ctime\",\n",
    "    \"http://example.com/vocab/formulation\",\n",
    "    \"chemical\": \"http://example.com/vocab/chemical\",\n",
    "    \"SMILES\": \"http://example.com/vocab/SMILES\",\n",
    "    \"InChIKey\": \"http://example.com/vocab/InChIKey\",\n",
    "    \"fraction\": \"http://example.com/vocab/fraction\",\n",
    "    \"fraction_type\": \"http://example.com/vocab/fraction_type\",\n",
    "    \"internal_reference\": \"http://example.com/vocab/internal_reference\",\n",
    "    \"conductivity\": \"http://example.com/vocab/conductivity\",\n",
    "    \"values\": \"http://example.com/vocab/values\",\n",
    "    \"temperature\": \"http://example.com/vocab/temperature\",\n",
    "    \"quantity\": \"http://example.com/vocab/quantity\",\n",
    "    \"method\": \"http://example.com/vocab/method\",\n",
    "    \"parameters\": \"http://example.com/vocab/parameters\",\n",
    "    \"molecular_dynamics\": \"http://example.com/vocab/molecular_dynamics\",\n",
    "}"
   ]
  },
  {
   "cell_type": "code",
   "execution_count": 133,
   "metadata": {},
   "outputs": [],
   "source": [
    "def flatten_json(json_doc):\n",
    "    out = {}\n",
    "    def flatten(x, name=''):\n",
    "        if type(x) is dict:\n",
    "            for a in x:\n",
    "                flatten(x[a], name + a + '/')\n",
    "        elif type(x) is list:\n",
    "            i = 0\n",
    "            for a in x:\n",
    "                flatten(a, name + str(i) + '/')\n",
    "                i += 1\n",
    "        else:\n",
    "            out[name[:-1]] = x\n",
    "\n",
    "    flatten(json_doc)\n",
    "\n",
    "    return out\n",
    "\n",
    "\n",
    "\n",
    "def skip_levels(json_doc, to_skip):\n",
    "\n",
    "    updated_y = {}\n",
    "    for key, value in json_doc.items():\n",
    "        \n",
    "        new_key = \"/\".join([json_level for json_level in key.split(\"/\") if json_level not in to_skip])\n",
    "        updated_y[new_key]=value\n",
    "        \n",
    "    return updated_y\n",
    "\n",
    "\n",
    "\n",
    "def nest_json(flat_dict):\n",
    "    nested_dict = {}\n",
    "    \n",
    "    for key, value in flat_dict.items():\n",
    "        keys = key.split(\"/\")\n",
    "        current_dict = nested_dict\n",
    "\n",
    "        for k in keys[:-1]:\n",
    "            current_dict = current_dict.setdefault(k, {})\n",
    "\n",
    "        last_key = keys[-1]\n",
    "        if last_key.isdigit():\n",
    "            current_dict = current_dict.setdefault(keys[-2], [])\n",
    "            current_dict.append(value)\n",
    "        else:\n",
    "            current_dict[last_key] = value\n",
    "\n",
    "    return nested_dict\n",
    "\n",
    "\n"
   ]
  },
  {
   "cell_type": "code",
   "execution_count": 134,
   "metadata": {},
   "outputs": [
    {
     "data": {
      "text/plain": [
       "{'uuid': '5362797a-e5d9-45ec-90a2-4f79be84d683',\n",
       " 'ctime': '2023-07-26T11:22:20',\n",
       " 'status': 'original',\n",
       " 'formulation': {'0': {'chemical': {'SMILES': '[Li+].F[P-](F)(F)(F)(F)F',\n",
       "    'InChIKey': 'AXPLOJNSKRXQPA-UHFFFAOYSA-N'},\n",
       "   'fraction': 0.05,\n",
       "   'fraction_type': 'molar fraction'},\n",
       "  '1': {'chemical': {'SMILES': 'C1COC(=O)O1',\n",
       "    'InChIKey': 'KMTRUDSVKNLOMY-UHFFFAOYSA-N'},\n",
       "   'fraction': 0.45,\n",
       "   'fraction_type': 'molar fraction'},\n",
       "  '2': {'chemical': {'SMILES': 'CC1COC(=O)O1',\n",
       "    'InChIKey': 'RUOJZAUFBMNUDX-UHFFFAOYSA-N'},\n",
       "   'fraction': 0.5,\n",
       "   'fraction_type': 'molar fraction'}},\n",
       " 'internal_reference': 'a11c15de-6d14-424e-8dc6-32f8398bfd51',\n",
       " 'conductivity': {'values': {'values': [0.008328539145648056]},\n",
       "  'temperature': 298,\n",
       "  'meta': {'success': True, 'rating': 2}},\n",
       " 'quantity': 'conductivity',\n",
       " 'method': {'method': ['molecular_dynamics']},\n",
       " 'parameters': {'molecular_dynamics': {'formulation': {'0': {'chemical': {'SMILES': '[Li+].F[P-](F)(F)(F)(F)F',\n",
       "      'InChIKey': 'AXPLOJNSKRXQPA-UHFFFAOYSA-N'},\n",
       "     'fraction': 0.05,\n",
       "     'fraction_type': 'molar fraction'},\n",
       "    '1': {'chemical': {'SMILES': 'C1COC(=O)O1',\n",
       "      'InChIKey': 'KMTRUDSVKNLOMY-UHFFFAOYSA-N'},\n",
       "     'fraction': 0.45,\n",
       "     'fraction_type': 'molar fraction'},\n",
       "    '2': {'chemical': {'SMILES': 'CC1COC(=O)O1',\n",
       "      'InChIKey': 'RUOJZAUFBMNUDX-UHFFFAOYSA-N'},\n",
       "     'fraction': 0.5,\n",
       "     'fraction_type': 'molar fraction'}},\n",
       "   'temperature': 298}},\n",
       " 'tenant_uuid': 'e61462cc-d297-4ece-a5ce-222e72aaf0b0',\n",
       " 'request_uuid': 'f2195e96-1494-4ce7-94a0-ce52d1331cf3'}"
      ]
     },
     "execution_count": 134,
     "metadata": {},
     "output_type": "execute_result"
    }
   ],
   "source": [
    "flattened_json_doc = flatten_json(data)\n",
    "simplified_flattened_json_doc = skip_levels(flattened_json_doc, to_skip=[\"result\", \"data\", \"run_info\"])\n",
    "renested_json_doc = nest_json(simplified_flattened_json_doc)\n",
    "renested_json_doc"
   ]
  },
  {
   "cell_type": "code",
   "execution_count": 111,
   "metadata": {},
   "outputs": [
    {
     "data": {
      "text/plain": [
       "'formulation/0/chemical/SMILES'"
      ]
     },
     "execution_count": 111,
     "metadata": {},
     "output_type": "execute_result"
    }
   ],
   "source": [
    "\"/\".join([key for key in 'result/data/run_info/formulation/0/chemical/SMILES'.split(\"/\") if key not in [\"result\", \"data\", \"run_info\"]])\n"
   ]
  },
  {
   "cell_type": "code",
   "execution_count": 102,
   "metadata": {},
   "outputs": [
    {
     "name": "stdout",
     "output_type": "stream",
     "text": [
      "{\n",
      "  \"@context\": {\n",
      "    \"ctime\": \"http://example.com/vocab/ctime\",\n",
      "    \"formulation\": \"http://example.com/vocab/formulation\",\n",
      "    \"chemical\": \"http://example.com/vocab/chemical\",\n",
      "    \"SMILES\": \"http://example.com/vocab/SMILES\",\n",
      "    \"InChIKey\": \"http://example.com/vocab/InChIKey\",\n",
      "    \"fraction\": \"http://example.com/vocab/fraction\",\n",
      "    \"fraction_type\": \"http://example.com/vocab/fraction_type\",\n",
      "    \"internal_reference\": \"http://example.com/vocab/internal_reference\",\n",
      "    \"conductivity\": \"http://example.com/vocab/conductivity\",\n",
      "    \"values\": \"http://example.com/vocab/values\",\n",
      "    \"temperature\": \"http://example.com/vocab/temperature\",\n",
      "    \"quantity\": \"http://example.com/vocab/quantity\",\n",
      "    \"method\": \"http://example.com/vocab/method\",\n",
      "    \"parameters\": \"http://example.com/vocab/parameters\",\n",
      "    \"molecular_dynamics\": \"http://example.com/vocab/molecular_dynamics\"\n",
      "  },\n",
      "  \"@id\": \"5362797a-e5d9-45ec-90a2-4f79be84d683\",\n",
      "  \"ctime\": \"2023-07-26T11:22:20\"\n",
      "}\n"
     ]
    }
   ],
   "source": [
    "# Remove the original \"uuid\" field if you want to avoid duplication\n",
    "if \"uuid\" in data:\n",
    "    data['@id'] = data['uuid']\n",
    "    del data['uuid']\n",
    "\n",
    "# Add the context to your data\n",
    "data['@context'] = context['@context']\n",
    "\n",
    "\n",
    "\n",
    "# Convert to JSON-LD\n",
    "jsonld_data = jsonld.compact(data, context)\n",
    "jsonld_data_framed = jsonld.frame(jsonld_data, jsonld_frame)\n",
    "\n",
    "print(json.dumps(jsonld_data, indent=2))"
   ]
  },
  {
   "cell_type": "code",
   "execution_count": 100,
   "metadata": {},
   "outputs": [
    {
     "name": "stdout",
     "output_type": "stream",
     "text": [
      "{\n",
      "  \"@context\": {\n",
      "    \"ctime\": \"http://example.com/vocab/ctime\",\n",
      "    \"result\": \"http://example.com/vocab/result\",\n",
      "    \"conductivity\": \"http://example.com/vocab/conductivity\",\n",
      "    \"values\": \"http://example.com/vocab/values\",\n",
      "    \"temperature\": \"http://example.com/vocab/temperature\",\n",
      "    \"formulation\": \"http://example.com/vocab/formulation\",\n",
      "    \"chemical\": \"http://example.com/vocab/chemical\",\n",
      "    \"SMILES\": \"http://example.com/vocab/SMILES\",\n",
      "    \"InChIKey\": \"http://example.com/vocab/InChIKey\"\n",
      "  },\n",
      "  \"@id\": \"5362797a-e5d9-45ec-90a2-4f79be84d683\",\n",
      "  \"ctime\": \"2023-07-26T11:22:20\",\n",
      "  \"result\": null\n",
      "}\n"
     ]
    }
   ],
   "source": [
    "print(json.dumps(jsonld_data_framed, indent=2))"
   ]
  },
  {
   "cell_type": "markdown",
   "metadata": {},
   "source": [
    "## Status\n",
    "### 06.09.23\n",
    "* Tried using the `frame` method of the JSON-LD specification. However, it filters keys from the original document, it cannot modify the original hierarchy. More specifically, if a level is not included in the frame, all the contents of that level dissapear. If the level is included, it inherits the original hierarchy.\n",
    "* A more pragmatic solution could be:\n",
    "    * Flattening the original json doc\n",
    "    * Removing levels programatically, to simplify the original hierarchy\n",
    "    * Re-nesting the simplified document\n",
    "    * Attach a flat context to it.\n",
    "\n",
    "\n",
    "> Next: Try if attaching a context to a normal json document, results in a file readable by rdflib"
   ]
  }
 ],
 "metadata": {
  "kernelspec": {
   "display_name": "venv-ontoapps",
   "language": "python",
   "name": "python3"
  },
  "language_info": {
   "codemirror_mode": {
    "name": "ipython",
    "version": 3
   },
   "file_extension": ".py",
   "mimetype": "text/x-python",
   "name": "python",
   "nbconvert_exporter": "python",
   "pygments_lexer": "ipython3",
   "version": "3.10.6"
  },
  "orig_nbformat": 4
 },
 "nbformat": 4,
 "nbformat_minor": 2
}
