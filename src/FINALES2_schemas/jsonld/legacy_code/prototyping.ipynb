{
 "cells": [
  {
   "cell_type": "code",
   "execution_count": 4,
   "metadata": {},
   "outputs": [],
   "source": [
    "import json\n",
    "from pyld import jsonld\n",
    "from rdflib import Graph, Literal, BNode, RDF, URIRef\n",
    "import utils\n",
    "\n",
    "with open('../examples_conductivity/single_result.json') as f:\n",
    "    data = json.load(f)\n",
    "\n",
    "\n",
    "with open(\"./mapping.json\") as f:\n",
    "    mapping = json.load(f)"
   ]
  },
  {
   "cell_type": "code",
   "execution_count": 5,
   "metadata": {},
   "outputs": [
    {
     "name": "stdout",
     "output_type": "stream",
     "text": [
      "and the value is a dict with a values key, and its value is itself a list, add each value as literal \n",
      "Here goes a value of conductivity: {'values': [0.008328539145648056], 'temperature': 298, 'meta': {'success': True, 'rating': 2}}\n"
     ]
    }
   ],
   "source": [
    "rdf_graph = Graph()\n",
    "object_type = URIRef(mapping[\"type\"])\n",
    "filled_rdf_graph = utils.process_object(data, \n",
    "                                        g=rdf_graph, \n",
    "                                        mapping=mapping,\n",
    "                                        json_object_type=object_type, \n",
    "                                        temp_subject = None)\n",
    "\n",
    "\n",
    "\n",
    "serialized_jsonld:str = filled_rdf_graph.serialize(format='json-ld', indent=4)\n",
    "jsonld_list:list = json.loads(serialized_jsonld)"
   ]
  },
  {
   "cell_type": "code",
   "execution_count": 5,
   "metadata": {},
   "outputs": [],
   "source": [
    "compacted = jsonld.compact(jsonld_list, mapping[\"@context\"])\n",
    "with open(\"./jsonld_test1.json\", 'w') as jsonld_file:\n",
    "    json.dump(compacted, jsonld_file, indent=4, ensure_ascii=False)"
   ]
  },
  {
   "cell_type": "code",
   "execution_count": null,
   "metadata": {},
   "outputs": [],
   "source": []
  },
  {
   "cell_type": "markdown",
   "metadata": {},
   "source": [
    "## Initial strategy: recursive navigation of original json\n",
    "\n",
    " * The code in reads the `./mapping.json` and the `../examples_conductivity/single_result.json` file.\n",
    "* From `single_result.json` the code find recursively each key and value, navigating through the nesting of the `single_result.json` contents.  \n",
    "* As the code finds keys and values it creates \"triples\", which are (subject, predicate, object) statements based on the mapping.json file\n",
    "    * Each triple is a NODE -LINK-> NODE statement. Many statements build a graph. \n",
    "    * The graph is stored in a Graph() object from the rdflib library\n",
    "* After the graph has been populated with triples, then it is serialized to JSON-LD\n",
    "\n",
    "**Problem**. While the code works, the serialization is a list of JSON-LD objects. There is no hierarchy wihin the JSON-LD file, as objects with the same id (i.e. the same object) are not nested into each other."
   ]
  },
  {
   "cell_type": "code",
   "execution_count": 4,
   "metadata": {},
   "outputs": [
    {
     "data": {
      "text/plain": [
       "[{'@id': '5362797a-e5d9-45ec-90a2-4f79be84d683',\n",
       "  '@type': ['http://emmo.info/emmo#EMMO_0f6f0120_c079_4d95_bb11_4ddee05e530e'],\n",
       "  'http://emmo.info/emmo#EMMO_5d73661e_e710_4844_ab9b_a85b7e68576a': [{'@id': '_:N85dcc1313cc74d73a970389dde54b4be',\n",
       "    '@type': ['http://emmo.info/emmo#EMMO_cde4368c_1d4d_4c94_8548_604749523c6d'],\n",
       "    'http://emmo.info/emmo#EMMO_67fc0a36_8dcb_4ffa_9a43_31074efa3296': [],\n",
       "    'http://emmo.info/emmo#EMMO_8ef3cd6d_ae58_4a8d_9fc0_ad8f49015cd0': [{'@value': 0.008328539145648056}]}],\n",
       "  'http://emmo.info/emmo/domain/chameo/chameo#hasSampledSample': [{'@id': '_:N2cf94be1ae30408492d27ebb4569c8e5',\n",
       "    '@type': ['http://emmo.info/emmo#EMMO_4b3e2374_52a1_4420_8e3f_3ae6b9bf7dff'],\n",
       "    'http://emmo.info/emmo#EMMO_0aa934ee_1ad4_4345_8a7f_bc73ec67c7e5': [{'@id': '_:Na5c5c36cb04a43bdaa0f8f36488cdbce',\n",
       "      '@type': ['http://emmo.info/emmo#EMMO_04b3300c_98bd_42dc_a3b5_e6c29d69f1ac'],\n",
       "      'http://emmo.info/emmo#EMMO_67fc0a36_8dcb_4ffa_9a43_31074efa3296': [],\n",
       "      'http://emmo.info/emmo#EMMO_8ef3cd6d_ae58_4a8d_9fc0_ad8f49015cd0': [{'@value': 0.05}]}],\n",
       "    'http://emmo.info/emmo#EMMO_dba27ca1_33c9_4443_a912_1519ce4c39ec': [{'@id': '_:N15b14be49aac45a3b91a407c89627508',\n",
       "      '@type': ['http://emmo.info/emmo#EMMO_e2b11f6a_4191_427e_9844_2e0ac88dfc8b'],\n",
       "      'http://emmo.info/emmo#EMMO_b292d30e_4d60_43f5_9f3e_9c4e00e17a10': [{'@value': 'AXPLOJNSKRXQPA-UHFFFAOYSA-N'}],\n",
       "      'http://emmo.info/emmo#EMMO_cf604b30_42be_44c7_a379_795236967ec2': [{'@value': '[Li+].F[P-](F)(F)(F)(F)F'}]}]},\n",
       "   {'@id': '_:N753b3d9496e547a498779bcc99788e1f',\n",
       "    '@type': ['http://emmo.info/emmo#EMMO_4b3e2374_52a1_4420_8e3f_3ae6b9bf7dff'],\n",
       "    'http://emmo.info/emmo#EMMO_0aa934ee_1ad4_4345_8a7f_bc73ec67c7e5': [{'@id': '_:Nde346a904df142e5a64810b162ad26b1',\n",
       "      '@type': ['http://emmo.info/emmo#EMMO_04b3300c_98bd_42dc_a3b5_e6c29d69f1ac'],\n",
       "      'http://emmo.info/emmo#EMMO_67fc0a36_8dcb_4ffa_9a43_31074efa3296': [],\n",
       "      'http://emmo.info/emmo#EMMO_8ef3cd6d_ae58_4a8d_9fc0_ad8f49015cd0': [{'@value': 0.45}]}],\n",
       "    'http://emmo.info/emmo#EMMO_dba27ca1_33c9_4443_a912_1519ce4c39ec': [{'@id': '_:Ndf07e618ecd349aead7562c14aca2a03',\n",
       "      '@type': ['http://emmo.info/emmo#EMMO_e2b11f6a_4191_427e_9844_2e0ac88dfc8b'],\n",
       "      'http://emmo.info/emmo#EMMO_b292d30e_4d60_43f5_9f3e_9c4e00e17a10': [{'@value': 'KMTRUDSVKNLOMY-UHFFFAOYSA-N'}],\n",
       "      'http://emmo.info/emmo#EMMO_cf604b30_42be_44c7_a379_795236967ec2': [{'@value': 'C1COC(=O)O1'}]}]},\n",
       "   {'@id': '_:Nf826fe1ba33541a0916159451a05044f',\n",
       "    '@type': ['http://emmo.info/emmo#EMMO_4b3e2374_52a1_4420_8e3f_3ae6b9bf7dff'],\n",
       "    'http://emmo.info/emmo#EMMO_0aa934ee_1ad4_4345_8a7f_bc73ec67c7e5': [{'@id': '_:N551babd8d8f847389c485105d4cfa897',\n",
       "      '@type': ['http://emmo.info/emmo#EMMO_04b3300c_98bd_42dc_a3b5_e6c29d69f1ac'],\n",
       "      'http://emmo.info/emmo#EMMO_67fc0a36_8dcb_4ffa_9a43_31074efa3296': [],\n",
       "      'http://emmo.info/emmo#EMMO_8ef3cd6d_ae58_4a8d_9fc0_ad8f49015cd0': [{'@value': 0.5}]}],\n",
       "    'http://emmo.info/emmo#EMMO_dba27ca1_33c9_4443_a912_1519ce4c39ec': [{'@id': '_:N9f31a38d5ffb44d2819a93f7a6eeb540',\n",
       "      '@type': ['http://emmo.info/emmo#EMMO_e2b11f6a_4191_427e_9844_2e0ac88dfc8b'],\n",
       "      'http://emmo.info/emmo#EMMO_b292d30e_4d60_43f5_9f3e_9c4e00e17a10': [{'@value': 'RUOJZAUFBMNUDX-UHFFFAOYSA-N'}],\n",
       "      'http://emmo.info/emmo#EMMO_cf604b30_42be_44c7_a379_795236967ec2': [{'@value': 'CC1COC(=O)O1'}]}]}],\n",
       "  'https://purl.vimmp.eu/semantics/osmo/osmo.ttl#has_logical_input': [{'@id': '_:N207d04661f9a49a3b4392125c7bdc092',\n",
       "    '@type': ['http://emmo.info/emmo#EMMO_d0200cf1_e4f4_45ae_873f_b9359daea3cd'],\n",
       "    'http://emmo.info/emmo/domain/chameo/chameo#SamplePreparationParameter': [{'@id': '_:N6f02492f7c494e58a9f82bbb836e6cb4',\n",
       "      '@type': ['http://emmo.info/electrochemistry#electrochemistry_39a44af0_0e1a_4859_b550_bdabad64386e'],\n",
       "      'http://emmo.info/emmo#EMMO_67fc0a36_8dcb_4ffa_9a43_31074efa3296': [],\n",
       "      'http://emmo.info/emmo#EMMO_8ef3cd6d_ae58_4a8d_9fc0_ad8f49015cd0': [{'@value': 298}]}],\n",
       "    'http://emmo.info/emmo/domain/chameo/chameo#hasSampledSample': [{'@id': '_:N55d7987ff0984628a8a65ee16d1d0cd6',\n",
       "      '@type': ['http://emmo.info/emmo#EMMO_4b3e2374_52a1_4420_8e3f_3ae6b9bf7dff'],\n",
       "      'http://emmo.info/emmo#EMMO_0aa934ee_1ad4_4345_8a7f_bc73ec67c7e5': [{'@id': '_:N0edf89f5c2734153b0d5bf6b79398dcd',\n",
       "        '@type': ['http://emmo.info/emmo#EMMO_04b3300c_98bd_42dc_a3b5_e6c29d69f1ac'],\n",
       "        'http://emmo.info/emmo#EMMO_67fc0a36_8dcb_4ffa_9a43_31074efa3296': [],\n",
       "        'http://emmo.info/emmo#EMMO_8ef3cd6d_ae58_4a8d_9fc0_ad8f49015cd0': [{'@value': 0.05}]}],\n",
       "      'http://emmo.info/emmo#EMMO_dba27ca1_33c9_4443_a912_1519ce4c39ec': [{'@id': '_:N10dc783158b24ef3a19407d3104489dc',\n",
       "        '@type': ['http://emmo.info/emmo#EMMO_e2b11f6a_4191_427e_9844_2e0ac88dfc8b'],\n",
       "        'http://emmo.info/emmo#EMMO_b292d30e_4d60_43f5_9f3e_9c4e00e17a10': [{'@value': 'AXPLOJNSKRXQPA-UHFFFAOYSA-N'}],\n",
       "        'http://emmo.info/emmo#EMMO_cf604b30_42be_44c7_a379_795236967ec2': [{'@value': '[Li+].F[P-](F)(F)(F)(F)F'}]}]},\n",
       "     {'@id': '_:Nfa7c0b401b9b47649ebd25b597edea72',\n",
       "      '@type': ['http://emmo.info/emmo#EMMO_4b3e2374_52a1_4420_8e3f_3ae6b9bf7dff'],\n",
       "      'http://emmo.info/emmo#EMMO_0aa934ee_1ad4_4345_8a7f_bc73ec67c7e5': [{'@id': '_:N4e5c9f659b0f4b53a703f34bd8cf19a8',\n",
       "        '@type': ['http://emmo.info/emmo#EMMO_04b3300c_98bd_42dc_a3b5_e6c29d69f1ac'],\n",
       "        'http://emmo.info/emmo#EMMO_67fc0a36_8dcb_4ffa_9a43_31074efa3296': [],\n",
       "        'http://emmo.info/emmo#EMMO_8ef3cd6d_ae58_4a8d_9fc0_ad8f49015cd0': [{'@value': 0.45}]}],\n",
       "      'http://emmo.info/emmo#EMMO_dba27ca1_33c9_4443_a912_1519ce4c39ec': [{'@id': '_:Nb540fb6f757a498f8d5b468fb1072dca',\n",
       "        '@type': ['http://emmo.info/emmo#EMMO_e2b11f6a_4191_427e_9844_2e0ac88dfc8b'],\n",
       "        'http://emmo.info/emmo#EMMO_b292d30e_4d60_43f5_9f3e_9c4e00e17a10': [{'@value': 'KMTRUDSVKNLOMY-UHFFFAOYSA-N'}],\n",
       "        'http://emmo.info/emmo#EMMO_cf604b30_42be_44c7_a379_795236967ec2': [{'@value': 'C1COC(=O)O1'}]}]},\n",
       "     {'@id': '_:N88b595dde2d94ddcb711d135cc69baaf',\n",
       "      '@type': ['http://emmo.info/emmo#EMMO_4b3e2374_52a1_4420_8e3f_3ae6b9bf7dff'],\n",
       "      'http://emmo.info/emmo#EMMO_0aa934ee_1ad4_4345_8a7f_bc73ec67c7e5': [{'@id': '_:Nf50743a60c514ff299dc149111c52b26',\n",
       "        '@type': ['http://emmo.info/emmo#EMMO_04b3300c_98bd_42dc_a3b5_e6c29d69f1ac'],\n",
       "        'http://emmo.info/emmo#EMMO_67fc0a36_8dcb_4ffa_9a43_31074efa3296': [],\n",
       "        'http://emmo.info/emmo#EMMO_8ef3cd6d_ae58_4a8d_9fc0_ad8f49015cd0': [{'@value': 0.5}]}],\n",
       "      'http://emmo.info/emmo#EMMO_dba27ca1_33c9_4443_a912_1519ce4c39ec': [{'@id': '_:Nc37f7ff7475e4d6896be3a986f3ec219',\n",
       "        '@type': ['http://emmo.info/emmo#EMMO_e2b11f6a_4191_427e_9844_2e0ac88dfc8b'],\n",
       "        'http://emmo.info/emmo#EMMO_b292d30e_4d60_43f5_9f3e_9c4e00e17a10': [{'@value': 'RUOJZAUFBMNUDX-UHFFFAOYSA-N'}],\n",
       "        'http://emmo.info/emmo#EMMO_cf604b30_42be_44c7_a379_795236967ec2': [{'@value': 'CC1COC(=O)O1'}]}]}]}],\n",
       "  'https://schema.org/productionDate': [{'@value': '2023-07-26T11:22:20'}]},\n",
       " {'@id': '_:N2cf94be1ae30408492d27ebb4569c8e5',\n",
       "  '@type': ['http://emmo.info/emmo#EMMO_4b3e2374_52a1_4420_8e3f_3ae6b9bf7dff'],\n",
       "  'http://emmo.info/emmo#EMMO_0aa934ee_1ad4_4345_8a7f_bc73ec67c7e5': [{'@id': '_:Na5c5c36cb04a43bdaa0f8f36488cdbce',\n",
       "    '@type': ['http://emmo.info/emmo#EMMO_04b3300c_98bd_42dc_a3b5_e6c29d69f1ac'],\n",
       "    'http://emmo.info/emmo#EMMO_67fc0a36_8dcb_4ffa_9a43_31074efa3296': [],\n",
       "    'http://emmo.info/emmo#EMMO_8ef3cd6d_ae58_4a8d_9fc0_ad8f49015cd0': [{'@value': 0.05}]}],\n",
       "  'http://emmo.info/emmo#EMMO_dba27ca1_33c9_4443_a912_1519ce4c39ec': [{'@id': '_:N15b14be49aac45a3b91a407c89627508',\n",
       "    '@type': ['http://emmo.info/emmo#EMMO_e2b11f6a_4191_427e_9844_2e0ac88dfc8b'],\n",
       "    'http://emmo.info/emmo#EMMO_b292d30e_4d60_43f5_9f3e_9c4e00e17a10': [{'@value': 'AXPLOJNSKRXQPA-UHFFFAOYSA-N'}],\n",
       "    'http://emmo.info/emmo#EMMO_cf604b30_42be_44c7_a379_795236967ec2': [{'@value': '[Li+].F[P-](F)(F)(F)(F)F'}]}]},\n",
       " {'@id': '_:N15b14be49aac45a3b91a407c89627508',\n",
       "  '@type': ['http://emmo.info/emmo#EMMO_e2b11f6a_4191_427e_9844_2e0ac88dfc8b'],\n",
       "  'http://emmo.info/emmo#EMMO_b292d30e_4d60_43f5_9f3e_9c4e00e17a10': [{'@value': 'AXPLOJNSKRXQPA-UHFFFAOYSA-N'}],\n",
       "  'http://emmo.info/emmo#EMMO_cf604b30_42be_44c7_a379_795236967ec2': [{'@value': '[Li+].F[P-](F)(F)(F)(F)F'}]},\n",
       " {'@id': '_:Na5c5c36cb04a43bdaa0f8f36488cdbce',\n",
       "  '@type': ['http://emmo.info/emmo#EMMO_04b3300c_98bd_42dc_a3b5_e6c29d69f1ac'],\n",
       "  'http://emmo.info/emmo#EMMO_67fc0a36_8dcb_4ffa_9a43_31074efa3296': [],\n",
       "  'http://emmo.info/emmo#EMMO_8ef3cd6d_ae58_4a8d_9fc0_ad8f49015cd0': [{'@value': 0.05}]},\n",
       " {'@id': '_:N753b3d9496e547a498779bcc99788e1f',\n",
       "  '@type': ['http://emmo.info/emmo#EMMO_4b3e2374_52a1_4420_8e3f_3ae6b9bf7dff'],\n",
       "  'http://emmo.info/emmo#EMMO_0aa934ee_1ad4_4345_8a7f_bc73ec67c7e5': [{'@id': '_:Nde346a904df142e5a64810b162ad26b1',\n",
       "    '@type': ['http://emmo.info/emmo#EMMO_04b3300c_98bd_42dc_a3b5_e6c29d69f1ac'],\n",
       "    'http://emmo.info/emmo#EMMO_67fc0a36_8dcb_4ffa_9a43_31074efa3296': [],\n",
       "    'http://emmo.info/emmo#EMMO_8ef3cd6d_ae58_4a8d_9fc0_ad8f49015cd0': [{'@value': 0.45}]}],\n",
       "  'http://emmo.info/emmo#EMMO_dba27ca1_33c9_4443_a912_1519ce4c39ec': [{'@id': '_:Ndf07e618ecd349aead7562c14aca2a03',\n",
       "    '@type': ['http://emmo.info/emmo#EMMO_e2b11f6a_4191_427e_9844_2e0ac88dfc8b'],\n",
       "    'http://emmo.info/emmo#EMMO_b292d30e_4d60_43f5_9f3e_9c4e00e17a10': [{'@value': 'KMTRUDSVKNLOMY-UHFFFAOYSA-N'}],\n",
       "    'http://emmo.info/emmo#EMMO_cf604b30_42be_44c7_a379_795236967ec2': [{'@value': 'C1COC(=O)O1'}]}]},\n",
       " {'@id': '_:Ndf07e618ecd349aead7562c14aca2a03',\n",
       "  '@type': ['http://emmo.info/emmo#EMMO_e2b11f6a_4191_427e_9844_2e0ac88dfc8b'],\n",
       "  'http://emmo.info/emmo#EMMO_b292d30e_4d60_43f5_9f3e_9c4e00e17a10': [{'@value': 'KMTRUDSVKNLOMY-UHFFFAOYSA-N'}],\n",
       "  'http://emmo.info/emmo#EMMO_cf604b30_42be_44c7_a379_795236967ec2': [{'@value': 'C1COC(=O)O1'}]},\n",
       " {'@id': '_:Nde346a904df142e5a64810b162ad26b1',\n",
       "  '@type': ['http://emmo.info/emmo#EMMO_04b3300c_98bd_42dc_a3b5_e6c29d69f1ac'],\n",
       "  'http://emmo.info/emmo#EMMO_67fc0a36_8dcb_4ffa_9a43_31074efa3296': [],\n",
       "  'http://emmo.info/emmo#EMMO_8ef3cd6d_ae58_4a8d_9fc0_ad8f49015cd0': [{'@value': 0.45}]},\n",
       " {'@id': '_:Nf826fe1ba33541a0916159451a05044f',\n",
       "  '@type': ['http://emmo.info/emmo#EMMO_4b3e2374_52a1_4420_8e3f_3ae6b9bf7dff'],\n",
       "  'http://emmo.info/emmo#EMMO_0aa934ee_1ad4_4345_8a7f_bc73ec67c7e5': [{'@id': '_:N551babd8d8f847389c485105d4cfa897',\n",
       "    '@type': ['http://emmo.info/emmo#EMMO_04b3300c_98bd_42dc_a3b5_e6c29d69f1ac'],\n",
       "    'http://emmo.info/emmo#EMMO_67fc0a36_8dcb_4ffa_9a43_31074efa3296': [],\n",
       "    'http://emmo.info/emmo#EMMO_8ef3cd6d_ae58_4a8d_9fc0_ad8f49015cd0': [{'@value': 0.5}]}],\n",
       "  'http://emmo.info/emmo#EMMO_dba27ca1_33c9_4443_a912_1519ce4c39ec': [{'@id': '_:N9f31a38d5ffb44d2819a93f7a6eeb540',\n",
       "    '@type': ['http://emmo.info/emmo#EMMO_e2b11f6a_4191_427e_9844_2e0ac88dfc8b'],\n",
       "    'http://emmo.info/emmo#EMMO_b292d30e_4d60_43f5_9f3e_9c4e00e17a10': [{'@value': 'RUOJZAUFBMNUDX-UHFFFAOYSA-N'}],\n",
       "    'http://emmo.info/emmo#EMMO_cf604b30_42be_44c7_a379_795236967ec2': [{'@value': 'CC1COC(=O)O1'}]}]},\n",
       " {'@id': '_:N9f31a38d5ffb44d2819a93f7a6eeb540',\n",
       "  '@type': ['http://emmo.info/emmo#EMMO_e2b11f6a_4191_427e_9844_2e0ac88dfc8b'],\n",
       "  'http://emmo.info/emmo#EMMO_b292d30e_4d60_43f5_9f3e_9c4e00e17a10': [{'@value': 'RUOJZAUFBMNUDX-UHFFFAOYSA-N'}],\n",
       "  'http://emmo.info/emmo#EMMO_cf604b30_42be_44c7_a379_795236967ec2': [{'@value': 'CC1COC(=O)O1'}]},\n",
       " {'@id': '_:N551babd8d8f847389c485105d4cfa897',\n",
       "  '@type': ['http://emmo.info/emmo#EMMO_04b3300c_98bd_42dc_a3b5_e6c29d69f1ac'],\n",
       "  'http://emmo.info/emmo#EMMO_67fc0a36_8dcb_4ffa_9a43_31074efa3296': [],\n",
       "  'http://emmo.info/emmo#EMMO_8ef3cd6d_ae58_4a8d_9fc0_ad8f49015cd0': [{'@value': 0.5}]},\n",
       " {'@id': '_:N85dcc1313cc74d73a970389dde54b4be',\n",
       "  '@type': ['http://emmo.info/emmo#EMMO_cde4368c_1d4d_4c94_8548_604749523c6d'],\n",
       "  'http://emmo.info/emmo#EMMO_67fc0a36_8dcb_4ffa_9a43_31074efa3296': [],\n",
       "  'http://emmo.info/emmo#EMMO_8ef3cd6d_ae58_4a8d_9fc0_ad8f49015cd0': [{'@value': 0.008328539145648056}]},\n",
       " {'@id': '_:N207d04661f9a49a3b4392125c7bdc092',\n",
       "  '@type': ['http://emmo.info/emmo#EMMO_d0200cf1_e4f4_45ae_873f_b9359daea3cd'],\n",
       "  'http://emmo.info/emmo/domain/chameo/chameo#SamplePreparationParameter': [{'@id': '_:N6f02492f7c494e58a9f82bbb836e6cb4',\n",
       "    '@type': ['http://emmo.info/electrochemistry#electrochemistry_39a44af0_0e1a_4859_b550_bdabad64386e'],\n",
       "    'http://emmo.info/emmo#EMMO_67fc0a36_8dcb_4ffa_9a43_31074efa3296': [],\n",
       "    'http://emmo.info/emmo#EMMO_8ef3cd6d_ae58_4a8d_9fc0_ad8f49015cd0': [{'@value': 298}]}],\n",
       "  'http://emmo.info/emmo/domain/chameo/chameo#hasSampledSample': [{'@id': '_:N55d7987ff0984628a8a65ee16d1d0cd6',\n",
       "    '@type': ['http://emmo.info/emmo#EMMO_4b3e2374_52a1_4420_8e3f_3ae6b9bf7dff'],\n",
       "    'http://emmo.info/emmo#EMMO_0aa934ee_1ad4_4345_8a7f_bc73ec67c7e5': [{'@id': '_:N0edf89f5c2734153b0d5bf6b79398dcd',\n",
       "      '@type': ['http://emmo.info/emmo#EMMO_04b3300c_98bd_42dc_a3b5_e6c29d69f1ac'],\n",
       "      'http://emmo.info/emmo#EMMO_67fc0a36_8dcb_4ffa_9a43_31074efa3296': [],\n",
       "      'http://emmo.info/emmo#EMMO_8ef3cd6d_ae58_4a8d_9fc0_ad8f49015cd0': [{'@value': 0.05}]}],\n",
       "    'http://emmo.info/emmo#EMMO_dba27ca1_33c9_4443_a912_1519ce4c39ec': [{'@id': '_:N10dc783158b24ef3a19407d3104489dc',\n",
       "      '@type': ['http://emmo.info/emmo#EMMO_e2b11f6a_4191_427e_9844_2e0ac88dfc8b'],\n",
       "      'http://emmo.info/emmo#EMMO_b292d30e_4d60_43f5_9f3e_9c4e00e17a10': [{'@value': 'AXPLOJNSKRXQPA-UHFFFAOYSA-N'}],\n",
       "      'http://emmo.info/emmo#EMMO_cf604b30_42be_44c7_a379_795236967ec2': [{'@value': '[Li+].F[P-](F)(F)(F)(F)F'}]}]},\n",
       "   {'@id': '_:Nfa7c0b401b9b47649ebd25b597edea72',\n",
       "    '@type': ['http://emmo.info/emmo#EMMO_4b3e2374_52a1_4420_8e3f_3ae6b9bf7dff'],\n",
       "    'http://emmo.info/emmo#EMMO_0aa934ee_1ad4_4345_8a7f_bc73ec67c7e5': [{'@id': '_:N4e5c9f659b0f4b53a703f34bd8cf19a8',\n",
       "      '@type': ['http://emmo.info/emmo#EMMO_04b3300c_98bd_42dc_a3b5_e6c29d69f1ac'],\n",
       "      'http://emmo.info/emmo#EMMO_67fc0a36_8dcb_4ffa_9a43_31074efa3296': [],\n",
       "      'http://emmo.info/emmo#EMMO_8ef3cd6d_ae58_4a8d_9fc0_ad8f49015cd0': [{'@value': 0.45}]}],\n",
       "    'http://emmo.info/emmo#EMMO_dba27ca1_33c9_4443_a912_1519ce4c39ec': [{'@id': '_:Nb540fb6f757a498f8d5b468fb1072dca',\n",
       "      '@type': ['http://emmo.info/emmo#EMMO_e2b11f6a_4191_427e_9844_2e0ac88dfc8b'],\n",
       "      'http://emmo.info/emmo#EMMO_b292d30e_4d60_43f5_9f3e_9c4e00e17a10': [{'@value': 'KMTRUDSVKNLOMY-UHFFFAOYSA-N'}],\n",
       "      'http://emmo.info/emmo#EMMO_cf604b30_42be_44c7_a379_795236967ec2': [{'@value': 'C1COC(=O)O1'}]}]},\n",
       "   {'@id': '_:N88b595dde2d94ddcb711d135cc69baaf',\n",
       "    '@type': ['http://emmo.info/emmo#EMMO_4b3e2374_52a1_4420_8e3f_3ae6b9bf7dff'],\n",
       "    'http://emmo.info/emmo#EMMO_0aa934ee_1ad4_4345_8a7f_bc73ec67c7e5': [{'@id': '_:Nf50743a60c514ff299dc149111c52b26',\n",
       "      '@type': ['http://emmo.info/emmo#EMMO_04b3300c_98bd_42dc_a3b5_e6c29d69f1ac'],\n",
       "      'http://emmo.info/emmo#EMMO_67fc0a36_8dcb_4ffa_9a43_31074efa3296': [],\n",
       "      'http://emmo.info/emmo#EMMO_8ef3cd6d_ae58_4a8d_9fc0_ad8f49015cd0': [{'@value': 0.5}]}],\n",
       "    'http://emmo.info/emmo#EMMO_dba27ca1_33c9_4443_a912_1519ce4c39ec': [{'@id': '_:Nc37f7ff7475e4d6896be3a986f3ec219',\n",
       "      '@type': ['http://emmo.info/emmo#EMMO_e2b11f6a_4191_427e_9844_2e0ac88dfc8b'],\n",
       "      'http://emmo.info/emmo#EMMO_b292d30e_4d60_43f5_9f3e_9c4e00e17a10': [{'@value': 'RUOJZAUFBMNUDX-UHFFFAOYSA-N'}],\n",
       "      'http://emmo.info/emmo#EMMO_cf604b30_42be_44c7_a379_795236967ec2': [{'@value': 'CC1COC(=O)O1'}]}]}]},\n",
       " {'@id': '_:N55d7987ff0984628a8a65ee16d1d0cd6',\n",
       "  '@type': ['http://emmo.info/emmo#EMMO_4b3e2374_52a1_4420_8e3f_3ae6b9bf7dff'],\n",
       "  'http://emmo.info/emmo#EMMO_0aa934ee_1ad4_4345_8a7f_bc73ec67c7e5': [{'@id': '_:N0edf89f5c2734153b0d5bf6b79398dcd',\n",
       "    '@type': ['http://emmo.info/emmo#EMMO_04b3300c_98bd_42dc_a3b5_e6c29d69f1ac'],\n",
       "    'http://emmo.info/emmo#EMMO_67fc0a36_8dcb_4ffa_9a43_31074efa3296': [],\n",
       "    'http://emmo.info/emmo#EMMO_8ef3cd6d_ae58_4a8d_9fc0_ad8f49015cd0': [{'@value': 0.05}]}],\n",
       "  'http://emmo.info/emmo#EMMO_dba27ca1_33c9_4443_a912_1519ce4c39ec': [{'@id': '_:N10dc783158b24ef3a19407d3104489dc',\n",
       "    '@type': ['http://emmo.info/emmo#EMMO_e2b11f6a_4191_427e_9844_2e0ac88dfc8b'],\n",
       "    'http://emmo.info/emmo#EMMO_b292d30e_4d60_43f5_9f3e_9c4e00e17a10': [{'@value': 'AXPLOJNSKRXQPA-UHFFFAOYSA-N'}],\n",
       "    'http://emmo.info/emmo#EMMO_cf604b30_42be_44c7_a379_795236967ec2': [{'@value': '[Li+].F[P-](F)(F)(F)(F)F'}]}]},\n",
       " {'@id': '_:N10dc783158b24ef3a19407d3104489dc',\n",
       "  '@type': ['http://emmo.info/emmo#EMMO_e2b11f6a_4191_427e_9844_2e0ac88dfc8b'],\n",
       "  'http://emmo.info/emmo#EMMO_b292d30e_4d60_43f5_9f3e_9c4e00e17a10': [{'@value': 'AXPLOJNSKRXQPA-UHFFFAOYSA-N'}],\n",
       "  'http://emmo.info/emmo#EMMO_cf604b30_42be_44c7_a379_795236967ec2': [{'@value': '[Li+].F[P-](F)(F)(F)(F)F'}]},\n",
       " {'@id': '_:N0edf89f5c2734153b0d5bf6b79398dcd',\n",
       "  '@type': ['http://emmo.info/emmo#EMMO_04b3300c_98bd_42dc_a3b5_e6c29d69f1ac'],\n",
       "  'http://emmo.info/emmo#EMMO_67fc0a36_8dcb_4ffa_9a43_31074efa3296': [],\n",
       "  'http://emmo.info/emmo#EMMO_8ef3cd6d_ae58_4a8d_9fc0_ad8f49015cd0': [{'@value': 0.05}]},\n",
       " {'@id': '_:Nfa7c0b401b9b47649ebd25b597edea72',\n",
       "  '@type': ['http://emmo.info/emmo#EMMO_4b3e2374_52a1_4420_8e3f_3ae6b9bf7dff'],\n",
       "  'http://emmo.info/emmo#EMMO_0aa934ee_1ad4_4345_8a7f_bc73ec67c7e5': [{'@id': '_:N4e5c9f659b0f4b53a703f34bd8cf19a8',\n",
       "    '@type': ['http://emmo.info/emmo#EMMO_04b3300c_98bd_42dc_a3b5_e6c29d69f1ac'],\n",
       "    'http://emmo.info/emmo#EMMO_67fc0a36_8dcb_4ffa_9a43_31074efa3296': [],\n",
       "    'http://emmo.info/emmo#EMMO_8ef3cd6d_ae58_4a8d_9fc0_ad8f49015cd0': [{'@value': 0.45}]}],\n",
       "  'http://emmo.info/emmo#EMMO_dba27ca1_33c9_4443_a912_1519ce4c39ec': [{'@id': '_:Nb540fb6f757a498f8d5b468fb1072dca',\n",
       "    '@type': ['http://emmo.info/emmo#EMMO_e2b11f6a_4191_427e_9844_2e0ac88dfc8b'],\n",
       "    'http://emmo.info/emmo#EMMO_b292d30e_4d60_43f5_9f3e_9c4e00e17a10': [{'@value': 'KMTRUDSVKNLOMY-UHFFFAOYSA-N'}],\n",
       "    'http://emmo.info/emmo#EMMO_cf604b30_42be_44c7_a379_795236967ec2': [{'@value': 'C1COC(=O)O1'}]}]},\n",
       " {'@id': '_:Nb540fb6f757a498f8d5b468fb1072dca',\n",
       "  '@type': ['http://emmo.info/emmo#EMMO_e2b11f6a_4191_427e_9844_2e0ac88dfc8b'],\n",
       "  'http://emmo.info/emmo#EMMO_b292d30e_4d60_43f5_9f3e_9c4e00e17a10': [{'@value': 'KMTRUDSVKNLOMY-UHFFFAOYSA-N'}],\n",
       "  'http://emmo.info/emmo#EMMO_cf604b30_42be_44c7_a379_795236967ec2': [{'@value': 'C1COC(=O)O1'}]},\n",
       " {'@id': '_:N4e5c9f659b0f4b53a703f34bd8cf19a8',\n",
       "  '@type': ['http://emmo.info/emmo#EMMO_04b3300c_98bd_42dc_a3b5_e6c29d69f1ac'],\n",
       "  'http://emmo.info/emmo#EMMO_67fc0a36_8dcb_4ffa_9a43_31074efa3296': [],\n",
       "  'http://emmo.info/emmo#EMMO_8ef3cd6d_ae58_4a8d_9fc0_ad8f49015cd0': [{'@value': 0.45}]},\n",
       " {'@id': '_:N88b595dde2d94ddcb711d135cc69baaf',\n",
       "  '@type': ['http://emmo.info/emmo#EMMO_4b3e2374_52a1_4420_8e3f_3ae6b9bf7dff'],\n",
       "  'http://emmo.info/emmo#EMMO_0aa934ee_1ad4_4345_8a7f_bc73ec67c7e5': [{'@id': '_:Nf50743a60c514ff299dc149111c52b26',\n",
       "    '@type': ['http://emmo.info/emmo#EMMO_04b3300c_98bd_42dc_a3b5_e6c29d69f1ac'],\n",
       "    'http://emmo.info/emmo#EMMO_67fc0a36_8dcb_4ffa_9a43_31074efa3296': [],\n",
       "    'http://emmo.info/emmo#EMMO_8ef3cd6d_ae58_4a8d_9fc0_ad8f49015cd0': [{'@value': 0.5}]}],\n",
       "  'http://emmo.info/emmo#EMMO_dba27ca1_33c9_4443_a912_1519ce4c39ec': [{'@id': '_:Nc37f7ff7475e4d6896be3a986f3ec219',\n",
       "    '@type': ['http://emmo.info/emmo#EMMO_e2b11f6a_4191_427e_9844_2e0ac88dfc8b'],\n",
       "    'http://emmo.info/emmo#EMMO_b292d30e_4d60_43f5_9f3e_9c4e00e17a10': [{'@value': 'RUOJZAUFBMNUDX-UHFFFAOYSA-N'}],\n",
       "    'http://emmo.info/emmo#EMMO_cf604b30_42be_44c7_a379_795236967ec2': [{'@value': 'CC1COC(=O)O1'}]}]},\n",
       " {'@id': '_:Nc37f7ff7475e4d6896be3a986f3ec219',\n",
       "  '@type': ['http://emmo.info/emmo#EMMO_e2b11f6a_4191_427e_9844_2e0ac88dfc8b'],\n",
       "  'http://emmo.info/emmo#EMMO_b292d30e_4d60_43f5_9f3e_9c4e00e17a10': [{'@value': 'RUOJZAUFBMNUDX-UHFFFAOYSA-N'}],\n",
       "  'http://emmo.info/emmo#EMMO_cf604b30_42be_44c7_a379_795236967ec2': [{'@value': 'CC1COC(=O)O1'}]},\n",
       " {'@id': '_:Nf50743a60c514ff299dc149111c52b26',\n",
       "  '@type': ['http://emmo.info/emmo#EMMO_04b3300c_98bd_42dc_a3b5_e6c29d69f1ac'],\n",
       "  'http://emmo.info/emmo#EMMO_67fc0a36_8dcb_4ffa_9a43_31074efa3296': [],\n",
       "  'http://emmo.info/emmo#EMMO_8ef3cd6d_ae58_4a8d_9fc0_ad8f49015cd0': [{'@value': 0.5}]},\n",
       " {'@id': '_:N6f02492f7c494e58a9f82bbb836e6cb4',\n",
       "  '@type': ['http://emmo.info/electrochemistry#electrochemistry_39a44af0_0e1a_4859_b550_bdabad64386e'],\n",
       "  'http://emmo.info/emmo#EMMO_67fc0a36_8dcb_4ffa_9a43_31074efa3296': [],\n",
       "  'http://emmo.info/emmo#EMMO_8ef3cd6d_ae58_4a8d_9fc0_ad8f49015cd0': [{'@value': 298}]}]"
      ]
     },
     "execution_count": 4,
     "metadata": {},
     "output_type": "execute_result"
    }
   ],
   "source": [
    "def create_object_store(object_list:list):\n",
    "    id_dict = {}\n",
    "    for obj in object_list:\n",
    "        if \"@id\" in obj:\n",
    "            id_value = obj[\"@id\"]\n",
    "            id_dict[id_value] = obj\n",
    "    return id_dict\n",
    "\n",
    "def replace_references(obj):\n",
    "    if isinstance(obj, list):\n",
    "        for i, item in enumerate(obj):\n",
    "            if isinstance(item, dict) and \"@id\" in item:\n",
    "                ref_id = item[\"@id\"]\n",
    "                if ref_id in id_dict:\n",
    "                    obj[i] = id_dict[ref_id].copy()\n",
    "                    replace_references(obj[i])  # Recurse for nested objects in the list\n",
    "    elif isinstance(obj, dict):\n",
    "        for key, value in obj.items():\n",
    "            if isinstance(value, list):\n",
    "                new_list = []\n",
    "                for item in value:\n",
    "                    if isinstance(item, dict) and \"@id\" in item:\n",
    "                        ref_id = item[\"@id\"]\n",
    "                        if ref_id in id_dict:\n",
    "                            new_list.append(id_dict[ref_id].copy())\n",
    "                            replace_references(new_list[-1])  # Recurse for nested objects in the list\n",
    "                    else:\n",
    "                        new_list.append(item)\n",
    "                obj[key] = new_list\n",
    "            elif isinstance(value, dict):\n",
    "                replace_references(value)  # Recurse for nested objects\n",
    "\n",
    "\n",
    "id_dict = create_object_store(jsonld_list)\n",
    "\n",
    "replace_references(jsonld_list)\n",
    "\n",
    "\n",
    "\n",
    "jsonld_list"
   ]
  },
  {
   "cell_type": "code",
   "execution_count": 5,
   "metadata": {},
   "outputs": [],
   "source": [
    "\n",
    "object_store = create_object_store(jsonld_list)\n",
    "\n",
    "\n"
   ]
  },
  {
   "cell_type": "code",
   "execution_count": 6,
   "metadata": {},
   "outputs": [
    {
     "ename": "NameError",
     "evalue": "name 'appended_objects' is not defined",
     "output_type": "error",
     "traceback": [
      "\u001b[1;31m---------------------------------------------------------------------------\u001b[0m",
      "\u001b[1;31mNameError\u001b[0m                                 Traceback (most recent call last)",
      "Cell \u001b[1;32mIn[6], line 1\u001b[0m\n\u001b[1;32m----> 1\u001b[0m jsonld\u001b[39m=\u001b[39m replace_uris_with_labels(appended_objects)\n\u001b[0;32m      3\u001b[0m \u001b[39mwith\u001b[39;00m \u001b[39mopen\u001b[39m(\u001b[39m\"\u001b[39m\u001b[39m./jsonld_test1.json\u001b[39m\u001b[39m\"\u001b[39m, \u001b[39m\"\u001b[39m\u001b[39mw\u001b[39m\u001b[39m\"\u001b[39m) \u001b[39mas\u001b[39;00m f:\n\u001b[0;32m      4\u001b[0m      json\u001b[39m.\u001b[39mdump(jsonld, f, indent\u001b[39m=\u001b[39m\u001b[39m4\u001b[39m)\n",
      "\u001b[1;31mNameError\u001b[0m: name 'appended_objects' is not defined"
     ]
    }
   ],
   "source": [
    "# jsonld= replace_uris_with_labels(appended_objects)\n",
    "\n",
    "# with open(\"./jsonld_test1.json\", \"w\") as f:\n",
    "#      json.dump(jsonld, f, indent=4)"
   ]
  },
  {
   "cell_type": "code",
   "execution_count": null,
   "metadata": {},
   "outputs": [],
   "source": []
  },
  {
   "cell_type": "markdown",
   "metadata": {},
   "source": [
    "**Conclusion**\n",
    "\n",
    "The code above creates the json-ld file, but as a list of objects, without explicit hierarchy between objects, even if their uuids are used within other objects. Tried several ways to make it work, but the end result is always a list of objects ."
   ]
  },
  {
   "cell_type": "markdown",
   "metadata": {},
   "source": [
    "## Alternative strategy: Flattening the json\n",
    "* The main idea is to flatten the `single_result.json`, and develop a new mapping file, and see if its easier to develop a script to recast `single_result.json` into a hierarchy of JSON_LD objects, similar to the hierarchy in the `conductivity_two_electrode.json` example."
   ]
  },
  {
   "cell_type": "code",
   "execution_count": null,
   "metadata": {},
   "outputs": [],
   "source": [
    "def flatten_json(json_obj, parent_key='', sep='/'):\n",
    "    flattened = {}\n",
    "    for k, v in json_obj.items():\n",
    "        new_key = f\"{parent_key}{sep}{k}\" if parent_key else k\n",
    "        if isinstance(v, dict):\n",
    "            flattened.update(flatten_json(v, new_key, sep))\n",
    "        elif isinstance(v, list):\n",
    "            for i, item in enumerate(v):\n",
    "                if isinstance(item, dict):\n",
    "                    flattened.update(flatten_json(item, f\"{new_key}{sep}{i}\", sep))\n",
    "                else:\n",
    "                    flattened[f\"{new_key}{sep}{i}\"] = item\n",
    "        else:\n",
    "            flattened[new_key] = v\n",
    "    return flattened"
   ]
  },
  {
   "cell_type": "code",
   "execution_count": null,
   "metadata": {},
   "outputs": [
    {
     "data": {
      "text/plain": [
       "{'uuid': '5362797a-e5d9-45ec-90a2-4f79be84d683',\n",
       " 'ctime': '2023-07-26T11:22:20',\n",
       " 'status': 'original',\n",
       " 'result/data/run_info/formulation/0/chemical/SMILES': '[Li+].F[P-](F)(F)(F)(F)F',\n",
       " 'result/data/run_info/formulation/0/chemical/InChIKey': 'AXPLOJNSKRXQPA-UHFFFAOYSA-N',\n",
       " 'result/data/run_info/formulation/0/fraction': 0.05,\n",
       " 'result/data/run_info/formulation/0/fraction_type': 'molar fraction',\n",
       " 'result/data/run_info/formulation/1/chemical/SMILES': 'C1COC(=O)O1',\n",
       " 'result/data/run_info/formulation/1/chemical/InChIKey': 'KMTRUDSVKNLOMY-UHFFFAOYSA-N',\n",
       " 'result/data/run_info/formulation/1/fraction': 0.45,\n",
       " 'result/data/run_info/formulation/1/fraction_type': 'molar fraction',\n",
       " 'result/data/run_info/formulation/2/chemical/SMILES': 'CC1COC(=O)O1',\n",
       " 'result/data/run_info/formulation/2/chemical/InChIKey': 'RUOJZAUFBMNUDX-UHFFFAOYSA-N',\n",
       " 'result/data/run_info/formulation/2/fraction': 0.5,\n",
       " 'result/data/run_info/formulation/2/fraction_type': 'molar fraction',\n",
       " 'result/data/run_info/internal_reference': 'a11c15de-6d14-424e-8dc6-32f8398bfd51',\n",
       " 'result/data/conductivity/values/0': 0.008328539145648056,\n",
       " 'result/data/conductivity/temperature': 298,\n",
       " 'result/data/conductivity/meta/success': True,\n",
       " 'result/data/conductivity/meta/rating': 2,\n",
       " 'result/quantity': 'conductivity',\n",
       " 'result/method/0': 'molecular_dynamics',\n",
       " 'result/parameters/molecular_dynamics/formulation/0/chemical/SMILES': '[Li+].F[P-](F)(F)(F)(F)F',\n",
       " 'result/parameters/molecular_dynamics/formulation/0/chemical/InChIKey': 'AXPLOJNSKRXQPA-UHFFFAOYSA-N',\n",
       " 'result/parameters/molecular_dynamics/formulation/0/fraction': 0.05,\n",
       " 'result/parameters/molecular_dynamics/formulation/0/fraction_type': 'molar fraction',\n",
       " 'result/parameters/molecular_dynamics/formulation/1/chemical/SMILES': 'C1COC(=O)O1',\n",
       " 'result/parameters/molecular_dynamics/formulation/1/chemical/InChIKey': 'KMTRUDSVKNLOMY-UHFFFAOYSA-N',\n",
       " 'result/parameters/molecular_dynamics/formulation/1/fraction': 0.45,\n",
       " 'result/parameters/molecular_dynamics/formulation/1/fraction_type': 'molar fraction',\n",
       " 'result/parameters/molecular_dynamics/formulation/2/chemical/SMILES': 'CC1COC(=O)O1',\n",
       " 'result/parameters/molecular_dynamics/formulation/2/chemical/InChIKey': 'RUOJZAUFBMNUDX-UHFFFAOYSA-N',\n",
       " 'result/parameters/molecular_dynamics/formulation/2/fraction': 0.5,\n",
       " 'result/parameters/molecular_dynamics/formulation/2/fraction_type': 'molar fraction',\n",
       " 'result/parameters/molecular_dynamics/temperature': 298,\n",
       " 'result/tenant_uuid': 'e61462cc-d297-4ece-a5ce-222e72aaf0b0',\n",
       " 'result/request_uuid': 'f2195e96-1494-4ce7-94a0-ce52d1331cf3'}"
      ]
     },
     "execution_count": 13,
     "metadata": {},
     "output_type": "execute_result"
    }
   ],
   "source": [
    "flattened_json = flatten_json(data)\n",
    "flattened_json"
   ]
  },
  {
   "cell_type": "markdown",
   "metadata": {},
   "source": [
    "**Missing**\n",
    "* Function to identify the flattened keys and map to the right concepts in a mapping file.\n",
    "* Develop a new mapping json file for the flattened version\n",
    "* Function to build the hierarchy as in the hand-made example `./conductivity_two_electrode.json`"
   ]
  },
  {
   "cell_type": "markdown",
   "metadata": {},
   "source": [
    "# Third strategy: JSONLD package"
   ]
  },
  {
   "cell_type": "code",
   "execution_count": 9,
   "metadata": {},
   "outputs": [],
   "source": [
    "from pyld import jsonld"
   ]
  },
  {
   "cell_type": "code",
   "execution_count": 15,
   "metadata": {},
   "outputs": [],
   "source": [
    "compacted = jsonld.compact(jsonld_list, mapping[\"@context\"])\n",
    "with open(\"./jsonld_test1.json\", 'w') as jsonld_file:\n",
    "    json.dump(compacted, jsonld_file, indent=4, ensure_ascii=False)\n",
    "\n"
   ]
  },
  {
   "cell_type": "code",
   "execution_count": null,
   "metadata": {},
   "outputs": [],
   "source": [
    "with open(\"./mapping2.json\") as f:\n",
    "    mapping2 = json.load(f)"
   ]
  },
  {
   "cell_type": "code",
   "execution_count": null,
   "metadata": {},
   "outputs": [],
   "source": [
    "# Function to recursively apply mappings to data\n",
    "def apply_mapping(data, mapping):\n",
    "    if isinstance(data, dict):\n",
    "        mapped_data = {}\n",
    "        for key, value in data.items():\n",
    "            if key in mapping:\n",
    "                key = mapping[key]  # Map keys to IRIs\n",
    "            if isinstance(value, str) and value in mapping:\n",
    "                value = mapping[value]  # Map string values to IRIs\n",
    "            mapped_data[key] = apply_mapping(value, mapping)\n",
    "        return mapped_data\n",
    "    elif isinstance(data, list):\n",
    "        return [apply_mapping(item, mapping) for item in data]\n",
    "    else:\n",
    "        return data\n",
    "\n",
    "# Apply the mapping to the data\n",
    "mapped_data = apply_mapping(data, mapping2)\n"
   ]
  },
  {
   "cell_type": "code",
   "execution_count": null,
   "metadata": {},
   "outputs": [
    {
     "data": {
      "text/plain": [
       "{'@context': {'fraction': 'http://emmo.info/emmo#EMMO_0aa934ee_1ad4_4345_8a7f_bc73ec67c7e5',\n",
       "  'molar fraction': 'http://emmo.info/emmo#EMMO_f76f5a24_d703_4e8c_b368_f9a7777cb73a',\n",
       "  'fraction_type': 'http://emmo.info/emmo#EMMO_67fc0a36_8dcb_4ffa_9a43_31074efa3296',\n",
       "  'conductivity': 'http://emmo.info/emmo#EMMO_5d73661e_e710_4844_ab9b_a85b7e68576a',\n",
       "  'temperature': 'http://emmo.info/emmo/domain/chameo/chameo#SamplePreparationParameter',\n",
       "  'quantity': 'http://emmo.info/emmo#EMMO_5d73661e_e710_4844_ab9b_a85b7e68576a',\n",
       "  'molecular_dynamics': 'http://emmo.info/emmo#EMMO_d0200cf1_e4f4_45ae_873f_b9359daea3cd',\n",
       "  'ctime': 'https://schema.org/productionDate',\n",
       "  'SMILES': 'http://emmo.info/emmo#EMMO_cf604b30_42be_44c7_a379_795236967ec2',\n",
       "  'InChIKey': 'http://emmo.info/emmo#EMMO_b292d30e_4d60_43f5_9f3e_9c4e00e17a10',\n",
       "  'chemical': 'http://emmo.info/emmo#EMMO_e2b11f6a_4191_427e_9844_2e0ac88dfc8b',\n",
       "  'formulation': 'http://emmo.info/emmo#EMMO_4b3e2374_52a1_4420_8e3f_3ae6b9bf7dff'},\n",
       " 'ctime': '2023-07-26T11:22:20'}"
      ]
     },
     "execution_count": 17,
     "metadata": {},
     "output_type": "execute_result"
    }
   ],
   "source": [
    "jsonld_data = jsonld.compact(mapped_data, mapping2)\n",
    "jsonld_data"
   ]
  },
  {
   "cell_type": "code",
   "execution_count": null,
   "metadata": {},
   "outputs": [],
   "source": [
    "\n",
    "# Serialize the data to JSON-LD format\n",
    "jsonld_data = {\n",
    "    \"@context\": mapping2,  # Use the mapping as the JSON-LD context\n",
    "    **mapped_data  # Include the mapped data\n",
    "}\n",
    "\n",
    "# Write the JSON-LD data to data_ld.json\n",
    "with open('data_ld.json', 'w') as jsonld_file:\n",
    "    json.dump(jsonld_data, jsonld_file, indent=4)"
   ]
  },
  {
   "cell_type": "markdown",
   "metadata": {},
   "source": [
    "## Using the FRAME method from JSONLD"
   ]
  },
  {
   "cell_type": "code",
   "execution_count": 6,
   "metadata": {},
   "outputs": [
    {
     "ename": "JsonLdError",
     "evalue": "('Invalid JSON-LD syntax; a JSON-LD frame must be a single object.',)\nType: jsonld.SyntaxError\nCode: invalid frame\nDetails: {'frame': [{'@type': ['http://emmo.info/emmo#EMMO_e2b11f6a_4191_427e_9844_2e0ac88dfc8b'], 'http://emmo.info/emmo#EMMO_0aa934ee_1ad4_4345_8a7f_bc73ec67c7e5': [{'@type': ['http://emmo.info/emmo#EMMO_04b3300c_98bd_42dc_a3b5_e6c29d69f1ac']}]}, {'@type': ['http://emmo.info/emmo#EMMO_e2b11f6a_4191_427e_9844_2e0ac88dfc8b'], 'http://emmo.info/emmo#EMMO_0aa934ee_1ad4_4345_8a7f_bc73ec67c7e5': [{'@type': ['http://emmo.info/emmo#EMMO_04b3300c_98bd_42dc_a3b5_e6c29d69f1ac']}]}, {'@type': ['http://emmo.info/emmo#EMMO_e2b11f6a_4191_427e_9844_2e0ac88dfc8b'], 'http://emmo.info/emmo#EMMO_0aa934ee_1ad4_4345_8a7f_bc73ec67c7e5': [{'@type': ['http://emmo.info/emmo#EMMO_04b3300c_98bd_42dc_a3b5_e6c29d69f1ac']}]}]}",
     "output_type": "error",
     "traceback": [
      "\u001b[1;31m---------------------------------------------------------------------------\u001b[0m",
      "\u001b[1;31mJsonLdError\u001b[0m                               Traceback (most recent call last)",
      "Cell \u001b[1;32mIn[6], line 3\u001b[0m\n\u001b[0;32m      1\u001b[0m \u001b[39mwith\u001b[39;00m \u001b[39mopen\u001b[39m(\u001b[39m'\u001b[39m\u001b[39m./frame.json\u001b[39m\u001b[39m'\u001b[39m) \u001b[39mas\u001b[39;00m f:\n\u001b[0;32m      2\u001b[0m     frame \u001b[39m=\u001b[39m json\u001b[39m.\u001b[39mload(f)\n\u001b[1;32m----> 3\u001b[0m formatted_data \u001b[39m=\u001b[39m jsonld\u001b[39m.\u001b[39;49mframe(jsonld_list, frame)\n\u001b[0;32m      4\u001b[0m \u001b[39m# Write the JSON-LD data to data_ld.json\u001b[39;00m\n\u001b[0;32m      5\u001b[0m \u001b[39mwith\u001b[39;00m \u001b[39mopen\u001b[39m(\u001b[39m'\u001b[39m\u001b[39mjsonld_test3.json\u001b[39m\u001b[39m'\u001b[39m, \u001b[39m'\u001b[39m\u001b[39mw\u001b[39m\u001b[39m'\u001b[39m) \u001b[39mas\u001b[39;00m jsonld_file:\n",
      "File \u001b[1;32mc:\\Users\\eibarc\\OneDrive - SINTEF\\Documents\\Project BIGMAP\\Repos\\venv-ontoapps\\lib\\site-packages\\pyld\\jsonld.py:214\u001b[0m, in \u001b[0;36mframe\u001b[1;34m(input_, frame, options)\u001b[0m\n\u001b[0;32m    188\u001b[0m \u001b[39mdef\u001b[39;00m \u001b[39mframe\u001b[39m(input_, frame, options\u001b[39m=\u001b[39m\u001b[39mNone\u001b[39;00m):\n\u001b[0;32m    189\u001b[0m \u001b[39m    \u001b[39m\u001b[39m\"\"\"\u001b[39;00m\n\u001b[0;32m    190\u001b[0m \u001b[39m    Performs JSON-LD framing.\u001b[39;00m\n\u001b[0;32m    191\u001b[0m \n\u001b[1;32m   (...)\u001b[0m\n\u001b[0;32m    212\u001b[0m \u001b[39m    :return: the framed JSON-LD output.\u001b[39;00m\n\u001b[0;32m    213\u001b[0m \u001b[39m    \"\"\"\u001b[39;00m\n\u001b[1;32m--> 214\u001b[0m     \u001b[39mreturn\u001b[39;00m JsonLdProcessor()\u001b[39m.\u001b[39;49mframe(input_, frame, options)\n",
      "File \u001b[1;32mc:\\Users\\eibarc\\OneDrive - SINTEF\\Documents\\Project BIGMAP\\Repos\\venv-ontoapps\\lib\\site-packages\\pyld\\jsonld.py:1056\u001b[0m, in \u001b[0;36mJsonLdProcessor.frame\u001b[1;34m(self, input_, frame, options)\u001b[0m\n\u001b[0;32m   1053\u001b[0m options[\u001b[39m'\u001b[39m\u001b[39mis11\u001b[39m\u001b[39m'\u001b[39m] \u001b[39m=\u001b[39m \u001b[39mself\u001b[39m\u001b[39m.\u001b[39m_processing_mode(active_ctx, \u001b[39m1.1\u001b[39m)\n\u001b[0;32m   1055\u001b[0m \u001b[39m# do framing\u001b[39;00m\n\u001b[1;32m-> 1056\u001b[0m framed \u001b[39m=\u001b[39m \u001b[39mself\u001b[39;49m\u001b[39m.\u001b[39;49m_frame(expanded, expanded_frame, options)\n\u001b[0;32m   1058\u001b[0m \u001b[39m# remove @preserve from results\u001b[39;00m\n\u001b[0;32m   1059\u001b[0m options[\u001b[39m'\u001b[39m\u001b[39mlink\u001b[39m\u001b[39m'\u001b[39m] \u001b[39m=\u001b[39m {}\n",
      "File \u001b[1;32mc:\\Users\\eibarc\\OneDrive - SINTEF\\Documents\\Project BIGMAP\\Repos\\venv-ontoapps\\lib\\site-packages\\pyld\\jsonld.py:2867\u001b[0m, in \u001b[0;36mJsonLdProcessor._frame\u001b[1;34m(self, input_, frame, options)\u001b[0m\n\u001b[0;32m   2865\u001b[0m \u001b[39m# frame the subjects\u001b[39;00m\n\u001b[0;32m   2866\u001b[0m framed \u001b[39m=\u001b[39m []\n\u001b[1;32m-> 2867\u001b[0m \u001b[39mself\u001b[39;49m\u001b[39m.\u001b[39;49m_match_frame(\n\u001b[0;32m   2868\u001b[0m     state, \u001b[39msorted\u001b[39;49m(state[\u001b[39m'\u001b[39;49m\u001b[39msubjects\u001b[39;49m\u001b[39m'\u001b[39;49m]\u001b[39m.\u001b[39;49mkeys()), frame, framed, \u001b[39mNone\u001b[39;49;00m)\n\u001b[0;32m   2870\u001b[0m \u001b[39m# if pruning blank nodes, find those to prune\u001b[39;00m\n\u001b[0;32m   2871\u001b[0m \u001b[39mif\u001b[39;00m options[\u001b[39m'\u001b[39m\u001b[39mpruneBlankNodeIdentifiers\u001b[39m\u001b[39m'\u001b[39m]:\n",
      "File \u001b[1;32mc:\\Users\\eibarc\\OneDrive - SINTEF\\Documents\\Project BIGMAP\\Repos\\venv-ontoapps\\lib\\site-packages\\pyld\\jsonld.py:4125\u001b[0m, in \u001b[0;36mJsonLdProcessor._match_frame\u001b[1;34m(self, state, subjects, frame, parent, property)\u001b[0m\n\u001b[0;32m   4121\u001b[0m     \u001b[39mcontinue\u001b[39;00m\n\u001b[0;32m   4123\u001b[0m \u001b[39mif\u001b[39;00m _is_subject_reference(o):\n\u001b[0;32m   4124\u001b[0m     \u001b[39m# recurse into subject reference\u001b[39;00m\n\u001b[1;32m-> 4125\u001b[0m     \u001b[39mself\u001b[39;49m\u001b[39m.\u001b[39;49m_match_frame(\n\u001b[0;32m   4126\u001b[0m         {\u001b[39m*\u001b[39;49m\u001b[39m*\u001b[39;49mstate, \u001b[39m'\u001b[39;49m\u001b[39membedded\u001b[39;49m\u001b[39m'\u001b[39;49m: \u001b[39mTrue\u001b[39;49;00m},\n\u001b[0;32m   4127\u001b[0m         [o[\u001b[39m'\u001b[39;49m\u001b[39m@id\u001b[39;49m\u001b[39m'\u001b[39;49m]], subframe, output, prop)\n\u001b[0;32m   4128\u001b[0m \u001b[39melif\u001b[39;00m \u001b[39mself\u001b[39m\u001b[39m.\u001b[39m_value_match(subframe[\u001b[39m0\u001b[39m], o):\n\u001b[0;32m   4129\u001b[0m     \u001b[39m# include other values automatically, if they match\u001b[39;00m\n\u001b[0;32m   4130\u001b[0m     \u001b[39mself\u001b[39m\u001b[39m.\u001b[39m_add_frame_output(output, prop, o)\n",
      "File \u001b[1;32mc:\\Users\\eibarc\\OneDrive - SINTEF\\Documents\\Project BIGMAP\\Repos\\venv-ontoapps\\lib\\site-packages\\pyld\\jsonld.py:4125\u001b[0m, in \u001b[0;36mJsonLdProcessor._match_frame\u001b[1;34m(self, state, subjects, frame, parent, property)\u001b[0m\n\u001b[0;32m   4121\u001b[0m     \u001b[39mcontinue\u001b[39;00m\n\u001b[0;32m   4123\u001b[0m \u001b[39mif\u001b[39;00m _is_subject_reference(o):\n\u001b[0;32m   4124\u001b[0m     \u001b[39m# recurse into subject reference\u001b[39;00m\n\u001b[1;32m-> 4125\u001b[0m     \u001b[39mself\u001b[39;49m\u001b[39m.\u001b[39;49m_match_frame(\n\u001b[0;32m   4126\u001b[0m         {\u001b[39m*\u001b[39;49m\u001b[39m*\u001b[39;49mstate, \u001b[39m'\u001b[39;49m\u001b[39membedded\u001b[39;49m\u001b[39m'\u001b[39;49m: \u001b[39mTrue\u001b[39;49;00m},\n\u001b[0;32m   4127\u001b[0m         [o[\u001b[39m'\u001b[39;49m\u001b[39m@id\u001b[39;49m\u001b[39m'\u001b[39;49m]], subframe, output, prop)\n\u001b[0;32m   4128\u001b[0m \u001b[39melif\u001b[39;00m \u001b[39mself\u001b[39m\u001b[39m.\u001b[39m_value_match(subframe[\u001b[39m0\u001b[39m], o):\n\u001b[0;32m   4129\u001b[0m     \u001b[39m# include other values automatically, if they match\u001b[39;00m\n\u001b[0;32m   4130\u001b[0m     \u001b[39mself\u001b[39m\u001b[39m.\u001b[39m_add_frame_output(output, prop, o)\n",
      "File \u001b[1;32mc:\\Users\\eibarc\\OneDrive - SINTEF\\Documents\\Project BIGMAP\\Repos\\venv-ontoapps\\lib\\site-packages\\pyld\\jsonld.py:3955\u001b[0m, in \u001b[0;36mJsonLdProcessor._match_frame\u001b[1;34m(self, state, subjects, frame, parent, property)\u001b[0m\n\u001b[0;32m   3945\u001b[0m \u001b[39m\u001b[39m\u001b[39m\"\"\"\u001b[39;00m\n\u001b[0;32m   3946\u001b[0m \u001b[39mFrames subjects according to the given frame.\u001b[39;00m\n\u001b[0;32m   3947\u001b[0m \n\u001b[1;32m   (...)\u001b[0m\n\u001b[0;32m   3952\u001b[0m \u001b[39m:param property: the parent property, initialized to None.\u001b[39;00m\n\u001b[0;32m   3953\u001b[0m \u001b[39m\"\"\"\u001b[39;00m\n\u001b[0;32m   3954\u001b[0m \u001b[39m# validate the frame\u001b[39;00m\n\u001b[1;32m-> 3955\u001b[0m \u001b[39mself\u001b[39;49m\u001b[39m.\u001b[39;49m_validate_frame(frame)\n\u001b[0;32m   3956\u001b[0m frame \u001b[39m=\u001b[39m frame[\u001b[39m0\u001b[39m]\n\u001b[0;32m   3958\u001b[0m \u001b[39m# get flags for current frame\u001b[39;00m\n",
      "File \u001b[1;32mc:\\Users\\eibarc\\OneDrive - SINTEF\\Documents\\Project BIGMAP\\Repos\\venv-ontoapps\\lib\\site-packages\\pyld\\jsonld.py:4247\u001b[0m, in \u001b[0;36mJsonLdProcessor._validate_frame\u001b[1;34m(self, frame)\u001b[0m\n\u001b[0;32m   4239\u001b[0m \u001b[39m\u001b[39m\u001b[39m\"\"\"\u001b[39;00m\n\u001b[0;32m   4240\u001b[0m \u001b[39mValidates a JSON-LD frame, throwing an exception if the frame is\u001b[39;00m\n\u001b[0;32m   4241\u001b[0m \u001b[39minvalid.\u001b[39;00m\n\u001b[0;32m   4242\u001b[0m \n\u001b[0;32m   4243\u001b[0m \u001b[39m:param frame: the frame to validate.\u001b[39;00m\n\u001b[0;32m   4244\u001b[0m \u001b[39m\"\"\"\u001b[39;00m\n\u001b[0;32m   4245\u001b[0m \u001b[39mif\u001b[39;00m (\u001b[39mnot\u001b[39;00m _is_array(frame) \u001b[39mor\u001b[39;00m \u001b[39mlen\u001b[39m(frame) \u001b[39m!=\u001b[39m \u001b[39m1\u001b[39m \u001b[39mor\u001b[39;00m\n\u001b[0;32m   4246\u001b[0m         \u001b[39mnot\u001b[39;00m _is_object(frame[\u001b[39m0\u001b[39m])):\n\u001b[1;32m-> 4247\u001b[0m     \u001b[39mraise\u001b[39;00m JsonLdError(\n\u001b[0;32m   4248\u001b[0m         \u001b[39m'\u001b[39m\u001b[39mInvalid JSON-LD syntax; a JSON-LD frame must be a single \u001b[39m\u001b[39m'\u001b[39m\n\u001b[0;32m   4249\u001b[0m         \u001b[39m'\u001b[39m\u001b[39mobject.\u001b[39m\u001b[39m'\u001b[39m, \u001b[39m'\u001b[39m\u001b[39mjsonld.SyntaxError\u001b[39m\u001b[39m'\u001b[39m,\n\u001b[0;32m   4250\u001b[0m         {\u001b[39m'\u001b[39m\u001b[39mframe\u001b[39m\u001b[39m'\u001b[39m: frame},\n\u001b[0;32m   4251\u001b[0m         code\u001b[39m=\u001b[39m\u001b[39m'\u001b[39m\u001b[39minvalid frame\u001b[39m\u001b[39m'\u001b[39m)\n\u001b[0;32m   4252\u001b[0m \u001b[39mif\u001b[39;00m \u001b[39m'\u001b[39m\u001b[39m@id\u001b[39m\u001b[39m'\u001b[39m \u001b[39min\u001b[39;00m frame[\u001b[39m0\u001b[39m]:\n\u001b[0;32m   4253\u001b[0m     \u001b[39mfor\u001b[39;00m id_ \u001b[39min\u001b[39;00m JsonLdProcessor\u001b[39m.\u001b[39marrayify(frame[\u001b[39m0\u001b[39m][\u001b[39m'\u001b[39m\u001b[39m@id\u001b[39m\u001b[39m'\u001b[39m]):\n\u001b[0;32m   4254\u001b[0m         \u001b[39m# @id must be wildcard or IRI\u001b[39;00m\n",
      "\u001b[1;31mJsonLdError\u001b[0m: ('Invalid JSON-LD syntax; a JSON-LD frame must be a single object.',)\nType: jsonld.SyntaxError\nCode: invalid frame\nDetails: {'frame': [{'@type': ['http://emmo.info/emmo#EMMO_e2b11f6a_4191_427e_9844_2e0ac88dfc8b'], 'http://emmo.info/emmo#EMMO_0aa934ee_1ad4_4345_8a7f_bc73ec67c7e5': [{'@type': ['http://emmo.info/emmo#EMMO_04b3300c_98bd_42dc_a3b5_e6c29d69f1ac']}]}, {'@type': ['http://emmo.info/emmo#EMMO_e2b11f6a_4191_427e_9844_2e0ac88dfc8b'], 'http://emmo.info/emmo#EMMO_0aa934ee_1ad4_4345_8a7f_bc73ec67c7e5': [{'@type': ['http://emmo.info/emmo#EMMO_04b3300c_98bd_42dc_a3b5_e6c29d69f1ac']}]}, {'@type': ['http://emmo.info/emmo#EMMO_e2b11f6a_4191_427e_9844_2e0ac88dfc8b'], 'http://emmo.info/emmo#EMMO_0aa934ee_1ad4_4345_8a7f_bc73ec67c7e5': [{'@type': ['http://emmo.info/emmo#EMMO_04b3300c_98bd_42dc_a3b5_e6c29d69f1ac']}]}]}"
     ]
    }
   ],
   "source": [
    "with open('./frame.json') as f:\n",
    "    frame = json.load(f)\n",
    "formatted_data = jsonld.frame(jsonld_list, frame)\n",
    "# Write the JSON-LD data to data_ld.json\n",
    "with open('jsonld_test3.json', 'w') as jsonld_file:\n",
    "    json.dump(formatted_data, jsonld_file, indent=4)"
   ]
  }
 ],
 "metadata": {
  "kernelspec": {
   "display_name": "venv-ontoapps",
   "language": "python",
   "name": "python3"
  },
  "language_info": {
   "codemirror_mode": {
    "name": "ipython",
    "version": 3
   },
   "file_extension": ".py",
   "mimetype": "text/x-python",
   "name": "python",
   "nbconvert_exporter": "python",
   "pygments_lexer": "ipython3",
   "version": "3.10.6"
  },
  "orig_nbformat": 4
 },
 "nbformat": 4,
 "nbformat_minor": 2
}
