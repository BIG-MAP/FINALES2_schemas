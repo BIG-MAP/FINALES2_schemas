{
 "cells": [
  {
   "cell_type": "markdown",
   "metadata": {},
   "source": [
    "# Third approach: templating\n",
    "Here I try to populate a jsonld file, with a custom-made, predefined strcture, using templating from the original output file"
   ]
  },
  {
   "cell_type": "code",
   "execution_count": 2,
   "metadata": {},
   "outputs": [],
   "source": [
    "import json\n",
    "from pyld import jsonld\n",
    "import utils\n",
    "import requests"
   ]
  },
  {
   "cell_type": "code",
   "execution_count": 3,
   "metadata": {},
   "outputs": [
    {
     "name": "stdout",
     "output_type": "stream",
     "text": [
      "<Response [404]>\n"
     ]
    }
   ],
   "source": [
    "# with open('../examples_conductivity/single_result.json') as f:\n",
    "#     data = json.load(f)\n",
    "\n",
    "github_raw_url = \"https://raw.githubusercontent.com/BIG-MAP/FINALES2_schemas/main/src/FINALES2_schemas/examples/results/conductivity/two_electrode.json?token=GHSAT0AAAAAACG24F2RRNP2CFIVIY4VEOYMZISZWNA\"\n",
    "response = requests.get(github_raw_url)\n",
    "if response.status_code == 200:\n",
    "    data = response.json()\n",
    "else:\n",
    "    print(response)\n",
    "    data = {}\n",
    "\n",
    "\n",
    "with open(\"./mapping3.json\") as f:\n",
    "    mapping = json.load(f)"
   ]
  },
  {
   "cell_type": "code",
   "execution_count": 4,
   "metadata": {},
   "outputs": [
    {
     "data": {
      "text/plain": [
       "{}"
      ]
     },
     "execution_count": 4,
     "metadata": {},
     "output_type": "execute_result"
    }
   ],
   "source": [
    "data"
   ]
  },
  {
   "cell_type": "code",
   "execution_count": 5,
   "metadata": {},
   "outputs": [
    {
     "data": {
      "text/plain": [
       "{}"
      ]
     },
     "execution_count": 5,
     "metadata": {},
     "output_type": "execute_result"
    }
   ],
   "source": [
    "def process_data(data, mapping, view, last_mapped_key=\"root\"):\n",
    "    if isinstance(data, dict):\n",
    "        for key, value in data.items():\n",
    "            if key in mapping:\n",
    "                print (key, \"in mapping\")\n",
    "                last_mapped_key = key  # Update the last_mapped_key\n",
    "                if isinstance(value, (dict, list)):\n",
    "                    view[key] = process_data(value, mapping, {}, last_mapped_key)\n",
    "                else:\n",
    "                    view[key] = value\n",
    "            elif last_mapped_key is not None:\n",
    "                if isinstance(value, list):\n",
    "                    view[last_mapped_key] = [process_data(item, mapping, {}, last_mapped_key) for item in value]\n",
    "                elif isinstance(value, dict):\n",
    "                    view[last_mapped_key] = process_data(value, mapping, {}, last_mapped_key)\n",
    "    elif isinstance(data, list):\n",
    "        view = []\n",
    "        for item in data:\n",
    "            if isinstance(item, (dict, list)):\n",
    "                view.append(process_data(item, mapping, {}, last_mapped_key))\n",
    "            elif isinstance(item, (int, float, str)):\n",
    "                view.append(item)\n",
    "\n",
    "    return view\n",
    "\n",
    "view = process_data(data, mapping[\"@context\"], {})\n",
    "view"
   ]
  },
  {
   "cell_type": "code",
   "execution_count": null,
   "metadata": {},
   "outputs": [],
   "source": []
  },
  {
   "cell_type": "code",
   "execution_count": 6,
   "metadata": {},
   "outputs": [
    {
     "name": "stdout",
     "output_type": "stream",
     "text": [
      "#######   Recursion 1 #######\n",
      "{}\n"
     ]
    },
    {
     "data": {
      "text/plain": [
       "{}"
      ]
     },
     "execution_count": 6,
     "metadata": {},
     "output_type": "execute_result"
    }
   ],
   "source": [
    "\n",
    "\n",
    "def process_object(json_object, jsonld_dict:dict, counter=0):\n",
    "\n",
    "    counter += 1\n",
    "    print(f\"#######   Recursion {counter} #######\")\n",
    "    print(json_object)\n",
    "\n",
    "    if isinstance(json_object, list):\n",
    "\n",
    "        for element in json_object:\n",
    "            process_object(element, jsonld_dict, counter)\n",
    "\n",
    "    elif isinstance(json_object, dict):\n",
    "\n",
    "        for key, value in json_object.items():\n",
    "\n",
    "            if key in mapping[\"@context\"].keys():\n",
    "\n",
    "                if isinstance(value,(str, int, float)):\n",
    "        \n",
    "                    jsonld_dict[key] = value\n",
    "\n",
    "                elif isinstance(value, (dict, list)):\n",
    "\n",
    "                    jsonld_dict[key] = {}\n",
    "\n",
    "                    process_object(value, jsonld_dict, counter)\n",
    "\n",
    "\n",
    "\n",
    "jsonld_dict = {}\n",
    "process_object(data, jsonld_dict)\n",
    "jsonld_dict"
   ]
  },
  {
   "cell_type": "code",
   "execution_count": 7,
   "metadata": {},
   "outputs": [
    {
     "data": {
      "text/plain": [
       "{}"
      ]
     },
     "execution_count": 7,
     "metadata": {},
     "output_type": "execute_result"
    }
   ],
   "source": [
    "def flatten_dict(d, parent_key='', separator='_'):\n",
    "    items = {}\n",
    "    for key, value in d.items():\n",
    "        new_key = f\"{parent_key}{separator}{key}\" if parent_key else key\n",
    "        if isinstance(value, dict):\n",
    "            items.update(flatten_dict(value, new_key, separator=separator))\n",
    "        elif isinstance(value, list):\n",
    "            for i, item in enumerate(value):\n",
    "                if isinstance(item, (dict, list)):\n",
    "                    # Handle nested dictionaries and lists within lists\n",
    "                    items.update(flatten_dict({str(i): item}, new_key, separator=separator))\n",
    "                else:\n",
    "                    items[f\"{new_key}{separator}{i}\"] = item\n",
    "        else:\n",
    "            items[new_key] = value\n",
    "    return items\n",
    "\n",
    "flattened_dict = flatten_dict(data, parent_key='', separator='/')\n",
    "flattened_dict"
   ]
  },
  {
   "cell_type": "code",
   "execution_count": 8,
   "metadata": {},
   "outputs": [],
   "source": [
    "with open(\"./view_template.json\") as f:\n",
    "    template = json.load(f)"
   ]
  },
  {
   "cell_type": "code",
   "execution_count": 9,
   "metadata": {},
   "outputs": [],
   "source": [
    "def get_value_from_nested_key(data:dict, path:list):\n",
    "    current_data = data\n",
    "    for key in path:\n",
    "        if isinstance(current_data, dict) and key in current_data:\n",
    "            current_data = current_data[key]\n",
    "        else:\n",
    "            return None  # Key path doesn't exist\n",
    "    return current_data\n",
    "\n",
    "\n",
    "def populate_template(data, template:dict, new_dict={}):\n",
    "\n",
    "    for template_key, template_value in template.items(): #iterate over key and values\n",
    "\n",
    "        if isinstance(template_value,str): #if value is a string\n",
    "\n",
    "            if template_value.startswith(\"/\"): # if string starts with \"/\", then its a path in original file               \n",
    "                path_list = template_value.split(\"/\")\n",
    "\n",
    "                if \"*\" not in path_list: #if path does not have \"*\" then it points to a literal\n",
    "                    new_dict[template_key] = get_value_from_nested_key(data, path_list)\n",
    "\n",
    "                else:\n",
    "                    pass\n",
    "            else:\n",
    "                new_dict[template_key] = template_value\n",
    "        \n",
    "        elif isinstance(template_value, dict):\n",
    "\n",
    "            new_dict[template_key] = {}\n",
    "            populate_template(template_value, template, new_dict=new_dict[template_key])\n",
    "\n",
    "\n",
    "def process_template(template, original_dict):\n",
    "    if isinstance(template, dict):\n",
    "        result = {}\n",
    "        for key, value in template.items():\n",
    "            if isinstance(value, str):\n",
    "                if value.startswith(\"/\"):\n",
    "                    result[key] = get_value_from_nested_key(original_dict, value.split(\"/\"))\n",
    "                else:\n",
    "                    result[key] = value  # Keep non-path values as is\n",
    "            elif isinstance(value, list):\n",
    "                result[key] = []\n",
    "                for item in value:\n",
    "                    if isinstance(item, dict):\n",
    "                        result[key].append(process_template(item, original_dict))\n",
    "                    elif isinstance(item, str) and item.startswith(\"/\"):\n",
    "                        result[key].append(get_value_from_nested_key(original_dict, item.split(\"/\")))\n",
    "                    else:\n",
    "                        result[key].append(item)  # Keep non-path values as is\n",
    "            elif isinstance(value, dict):\n",
    "                result[key] = process_template(value, original_dict)\n",
    "            else:\n",
    "                result[key] = value  # Keep other data types as is\n",
    "        return result\n",
    "    elif isinstance(template, list):\n",
    "        result = []\n",
    "        for item in template:\n",
    "            if isinstance(item, dict):\n",
    "                result.append(process_template(item, original_dict))\n",
    "            elif isinstance(item, str) and item.startswith(\"/\"):\n",
    "                result.append(get_value_from_nested_key(original_dict, item.split(\"/\")))\n",
    "            else:\n",
    "                result.append(item)  # Keep non-path values as is\n",
    "        return result\n",
    "    else:\n",
    "        return template  # Keep other data types as is\n",
    "        \n"
   ]
  },
  {
   "cell_type": "code",
   "execution_count": null,
   "metadata": {},
   "outputs": [
    {
     "ename": "",
     "evalue": "",
     "output_type": "error",
     "traceback": [
      "\u001b[1;31mThe Kernel crashed while executing code in the the current cell or a previous cell. Please review the code in the cell(s) to identify a possible cause of the failure. Click <a href='https://aka.ms/vscodeJupyterKernelCrash'>here</a> for more info. View Jupyter <a href='command:jupyter.viewOutput'>log</a> for further details."
     ]
    }
   ],
   "source": [
    "new_dict = process_template(data, template)\n",
    "new_dict"
   ]
  }
 ],
 "metadata": {
  "kernelspec": {
   "display_name": "venv-ontoapps",
   "language": "python",
   "name": "python3"
  },
  "language_info": {
   "codemirror_mode": {
    "name": "ipython",
    "version": 3
   },
   "file_extension": ".py",
   "mimetype": "text/x-python",
   "name": "python",
   "nbconvert_exporter": "python",
   "pygments_lexer": "ipython3",
   "version": "3.10.6"
  },
  "orig_nbformat": 4
 },
 "nbformat": 4,
 "nbformat_minor": 2
}
